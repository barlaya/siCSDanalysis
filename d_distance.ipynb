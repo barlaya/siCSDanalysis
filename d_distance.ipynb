{
  "nbformat": 4,
  "nbformat_minor": 0,
  "metadata": {
    "colab": {
      "name": "d_distance.ipynb",
      "provenance": [],
      "collapsed_sections": []
    },
    "kernelspec": {
      "name": "python3",
      "display_name": "Python 3"
    },
    "language_info": {
      "name": "python"
    }
  },
  "cells": [
    {
      "cell_type": "code",
      "execution_count": null,
      "metadata": {
        "id": "wHjzg1YTq-EB"
      },
      "outputs": [],
      "source": [
        "import numpy as np\n",
        "import matplotlib.pyplot as plt\n",
        "from mpl_toolkits import mplot3d\n",
        "import plotly.express as px \n",
        "import plotly.graph_objects as go \n",
        "import copy \n",
        "from operator import itemgetter "
      ]
    },
    {
      "cell_type": "markdown",
      "source": [
        "### Importing Data\n",
        "- $koord$ : (3xn shape) coordinates of a neuron\n",
        "- $elec$ változó: (3xn shape) coordinates of a 32-channel linear extracellular multi-electrode array\n",
        "-$diam, el\\_diam$ diameter in a given point ($\\mu m$)"
      ],
      "metadata": {
        "id": "BWJsb016rp55"
      }
    },
    {
      "cell_type": "code",
      "source": [
        "filename = \"sp9_morph_final.txt\"\n",
        "data = []\n",
        "elecdata = [] \n",
        "for line in open(filename): \n",
        "  line = line.rstrip(\"\").split(\" \")\n",
        "  line.remove(line[-1])\n",
        "  if len(line) > 0:\n",
        "    line.remove(line[0])\n",
        "    for i in range(len(line)):\n",
        "      if line[i].isnumeric():\n",
        "        line[i] = float(line[i])\n",
        "        #print(line)\n",
        "    if len(line) == 4:\n",
        "      data.append(line)\n",
        "\n",
        "#konvertalas float-ta\n",
        "diam = []\n",
        "xs=[]\n",
        "ys = []\n",
        "zs = []\n",
        "for lista in data:\n",
        "  for i in range(len(lista)):\n",
        "    if i%4 == 3:\n",
        "      diam.append(float(lista[i]))\n",
        "    if i%4 == 0:\n",
        "      xs.append(float(lista[i]))\n",
        "    if i%4 == 1:\n",
        "      ys.append(float(lista[i]))\n",
        "    if i%4 == 2:\n",
        "      zs.append(float(lista[i]))\n",
        "koord = np.array([xs, ys, zs])\n",
        "koord = np.transpose(koord)\n",
        "\n",
        "#ELEKTRODA BEOLVASAS\n",
        "filename = \"sp9_elec_morph.txt\"\n",
        "elecdata = [] \n",
        "for line in open(filename): \n",
        "  line = line.rstrip(\"\").split(\" \")\n",
        "  line.remove(line[-1])\n",
        "  if len(line) > 0:\n",
        "    line.remove(line[0])\n",
        "    for i in range(len(line)):\n",
        "      if line[i].isnumeric():\n",
        "        line[i] = float(line[i])\n",
        "        #print(line)\n",
        "    if len(line) == 4:\n",
        "      elecdata.append(line)\n",
        "\n",
        "#elecdata convert to float\n",
        "el_diam = []\n",
        "el_xs=[]\n",
        "el_ys = []\n",
        "el_zs = []\n",
        "for lista in elecdata:\n",
        "  for i in range(len(lista)):\n",
        "    if i%4 == 3:\n",
        "      el_diam.append(float(lista[i]))\n",
        "    if i%4 == 0:\n",
        "      el_xs.append(float(lista[i]))\n",
        "    if i%4 == 1:\n",
        "      el_ys.append(float(lista[i]))\n",
        "    if i%4 == 2:\n",
        "      el_zs.append(float(lista[i]))\n",
        "elec = np.array([el_xs, el_ys, el_zs])"
      ],
      "metadata": {
        "id": "J3y6gDgOrzNF"
      },
      "execution_count": null,
      "outputs": []
    },
    {
      "cell_type": "markdown",
      "source": [
        "###Spatial Rotation\n",
        "returns with the rotated spatial coordinates $koord$, the rotated coordinates of the electrode array are in the \n",
        " $electr$ list"
      ],
      "metadata": {
        "id": "vlizgWvtrpvN"
      }
    },
    {
      "cell_type": "code",
      "source": [
        "eqy = np.polyfit(elec[0], elec[2], 1)\n",
        "alphay = np.arctan(eqy[0])\n",
        "Ty = np.array([[np.cos(alphay), 0, np.sin(alphay)],  [0, 1, 0], \n",
        "                        [-np.sin(alphay), 0, np.cos(alphay)]])\n",
        "\n",
        "E = np.matmul(Ty, elec) \n",
        "\n",
        "eqz = np.polyfit(E[0], E[1],1)  \n",
        "alphaz = -np.arctan(eqz[0])\n",
        "Tz = np.array([[np.cos(alphaz), -np.sin(alphaz), 0], [np.sin(alphaz), \n",
        "                                              np.cos(alphaz), 0], [0, 0, 1]])\n",
        "\n",
        "E = np.matmul(Tz, E)\n",
        "koord = np.transpose(koord)\n",
        "Koordtr = np.matmul(Ty, koord)\n",
        "Koordtr = np.matmul(Tz, Koordtr)\n",
        "electr = copy.deepcopy(E)\n",
        "koord = None\n",
        "koord = copy.deepcopy(Koordtr)"
      ],
      "metadata": {
        "id": "GJFoyLf7tEtL"
      },
      "execution_count": null,
      "outputs": []
    },
    {
      "cell_type": "markdown",
      "source": [
        "###Electrode correction\n",
        "Each contact site was determined by 3 spatial coordinates, I calculated their arithmetic mean.\n",
        "I determined the real contact site of the multielectrode array, so we became the even and real electrode shank distribution in variable $novel$."
      ],
      "metadata": {
        "id": "KQuGFUvfulO4"
      }
    },
    {
      "cell_type": "code",
      "source": [
        "B = None\n",
        "meantot, meanxs, meanys, meanzs  =[], [], [], []\n",
        "def elec_norm(B):\n",
        "  \n",
        "  for i in range(len(np.transpose(B))-2):\n",
        "    if i%3 == 0:\n",
        "      meanxs.append((B[0,i] + B[0, i+1] + B[0, i+2])/3.)\n",
        "      meanys.append((B[1,i] + B[1, i+1] + B[1, i+2])/3.)\n",
        "      meanzs.append((B[2,i] + B[2, i+1] + B[2, i+2])/3.)\n",
        "    meantot = np.array([meanxs, meanys, meanzs])\n",
        "  return meantot\n",
        "e = elec_norm(elec)\n",
        "\n",
        "#original electrode shanks\n",
        "novel = []\n",
        "nagyx = np.argmax(e[0])\n",
        "kisx = np.argmin(e[0])\n",
        "novel.append(np.linspace(e[0,kisx], e[0, nagyx], 32))\n",
        "novel.append(np.linspace(e[1,0], e[1, -1], 32))\n",
        "novel.append(np.linspace(e[2,0], e[2, -1], 32))\n",
        "novel = np.array(novel) \n",
        "\n",
        "#length of the whole cell\n",
        "nagysx = np.argmax(koord[0])\n",
        "kissx = np.argmin(koord[0])\n",
        "lens = abs(np.amax(koord[0]) - np.amin(koord[0]))"
      ],
      "metadata": {
        "id": "FYBtKIVKvHOL"
      },
      "execution_count": null,
      "outputs": []
    },
    {
      "cell_type": "markdown",
      "source": [
        "###Slicing and the $d$ distance\n",
        "Slicing was executed all along the x axis of the Cartesian coordinate system\n",
        "The boundaries of an YZ-plane are temporally contained in the $bnd$ variable.\n",
        "The first and the last slices have irregular length.\n",
        " $szeletek$ tömbbe.\n",
        "Each 32 slices ar in a (32x $\\approx$ 2170 x3) dimensional variable called $szeletek$."
      ],
      "metadata": {
        "id": "fkbj2CzSvP8x"
      }
    },
    {
      "cell_type": "code",
      "source": [
        "mm = 1000.\n",
        "szeletek = []\n",
        "koord = np.transpose(koord/mm)  # i x 3 shape, floats in mm\n",
        "novel = np.transpose(novel/mm)  # 32 x 3 shape, floats in mm\n",
        "koord_loc = list(koord)\n",
        "novel_loc = list(novel)\n",
        "koord_loc = sorted(koord_loc, key=lambda koord_loc:koord_loc[0])\n",
        "\n",
        "def calc_bnd(j):\n",
        "  # distance between the j. and j+1. element\n",
        "  return 0.5 * ((novel_loc[j][0] - novel_loc[j+1][0])**2 + \n",
        "          (novel_loc[j][1] - novel_loc[j+1][1])**2 + \n",
        "          (novel_loc[j][2] - novel_loc[j+1][2])**2)**0.5\n",
        "\n",
        "#slicing the koord_loc list\n",
        "for j in range(len(novel_loc)):\n",
        "  egyszelet = []\n",
        "  if j == 0: \n",
        "    bnd_jobb = calc_bnd(j)\n",
        "  elif j == len(novel_loc) - 1: \n",
        "    bnd_bal = calc_bnd(j-1)\n",
        "  else:\n",
        "    bnd_bal = calc_bnd(j-1)\n",
        "    bnd_jobb = calc_bnd(j)\n",
        "  for i in range(len(koord_loc)):\n",
        "    if j == 0:\n",
        "      if koord_loc[i][0] <= novel_loc[j][0] + bnd_jobb:\n",
        "        egyszelet.append(list(koord_loc[i]))\n",
        "    elif j == len(novel_loc) - 1:\n",
        "      if novel_loc[j][0] - bnd_bal < koord_loc[i][0]:\n",
        "        egyszelet.append(list(koord_loc[i]))\n",
        "    elif (j != 0 or j!= len(novel_loc) - 1):\n",
        "      if novel_loc[j][0]-bnd_bal < koord_loc[i][0] <= novel_loc[j][0]+bnd_jobb:\n",
        "        egyszelet.append(list(koord_loc[i]))\n",
        "  szeletek.append(egyszelet)\n",
        "\n"
      ],
      "metadata": {
        "id": "lANdWH3BygkX"
      },
      "execution_count": null,
      "outputs": []
    },
    {
      "cell_type": "code",
      "source": [
        "\n",
        "fig = plt.figure()\n",
        "fig = go.Figure(data=[go.Scatter3d(x=novel[0], y=novel[1], z=novel[2], \n",
        "                mode='markers', marker=dict(size=3, color='orange', \n",
        "                                            opacity=0.5))])\n",
        "for i in range(len(szeletek)):\n",
        "    szelet = np.transpose(szeletek[i])\n",
        "\n",
        "    if i % 2 == 1:                 \n",
        "        fig.add_trace(go.Scatter3d(x=szelet[0], y=szelet[1], z=szelet[2], \n",
        "                                   mode='markers',\n",
        "                                       marker=dict(size=3, \n",
        "                                                   color='blue', opacity=0.5)))\n",
        "    else:                               \n",
        "        fig.add_trace(go.Scatter3d(x=szelet[0], \n",
        "                      y=szelet[1], z=szelet[2], mode='markers',\n",
        "                            marker=dict(size=3, color='red', opacity=0.5)))\n",
        "fig.write_html(\"szelet-scatter.html\")\n",
        "fig.show()\n",
        "novel = np.transpose(novel)"
      ],
      "metadata": {
        "id": "e9IimBBDsg55"
      },
      "execution_count": null,
      "outputs": []
    },
    {
      "cell_type": "code",
      "source": [
        "# ELECTRODE - CELL DISTANCE (d):\n",
        "import sys\n",
        "import numpy as np\n",
        "T = np.zeros((32,32))\n",
        "D = []\n",
        "d = 0\n",
        "sigma = 3e-4 #S/mm\n",
        "\n",
        "def tav(l1, l2, k, j):\n",
        "  distx = (l1[k][0] - l2[j][0]) ** 2\n",
        "  disty = (l1[k][1] - l2[j][1]) ** 2\n",
        "  distz = (l1[k][2] - l2[j][2]) ** 2\n",
        "  return (distx + disty + distz) ** 0.5\n",
        "\n",
        "for i in range(len(szeletek)):\n",
        "  for k in range(len(szeletek[i])):\n",
        "    for j in range(len(novel)):\n",
        "      if tav(szeletek[i], novel, k, j) > d: #sanity check #1\n",
        "        d = tav(szeletek[i], novel, k, j)\n",
        "      #print(\"novel[j], szeletek[i]\", novel[j], szeletek[i])\n",
        "      #print(\"tav(szeletek[i], novel, k, j)\", tav(szeletek[i], novel, k, j))\n",
        "      T[i,j] += 1/tav(szeletek[i], novel, k, j)\n",
        "      T[i,j] = 1/sigma * T[i,j]\n",
        "      #print(T[i,j])\n",
        "      if k == 1: exit\n",
        "      D.append(tav(szeletek[i], novel, k, j)) #sanity check #2"
      ],
      "metadata": {
        "id": "UUW_q4IoK1B2"
      },
      "execution_count": null,
      "outputs": []
    },
    {
      "cell_type": "markdown",
      "source": [
        "###$d$ distances and $T_{i,j}$\n",
        "Theoretical formula for T matrix by Zoltán Somogyvári (PhD), used in siCSD analysis:\n",
        "$$T_{i,j} = \\frac{A_{i,j}}{\\sigma} \\sum_{k = 1}^{N_i} \\frac{1}{d_{i,j,k}}$$\n",
        "\n",
        "- i index: each points of the cell in a given spatial slice\n",
        "- j index: the 32 electrode shanks\n",
        "- the siCSD analysis model was defined by Zoltán Somogyvári (PhD)"
      ],
      "metadata": {
        "id": "TcUb_4Bm9xjM"
      }
    }
  ]
}